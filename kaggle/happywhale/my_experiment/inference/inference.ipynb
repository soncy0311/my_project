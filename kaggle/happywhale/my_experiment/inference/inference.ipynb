{
 "cells": [
  {
   "cell_type": "code",
   "execution_count": 1,
   "id": "399df20f-d9de-44fd-a2ad-755866e3fad1",
   "metadata": {},
   "outputs": [],
   "source": [
    "from inference import mean_embeddings, inference"
   ]
  },
  {
   "cell_type": "code",
   "execution_count": 2,
   "id": "dea721dc-0684-4052-b7c0-2e8018478588",
   "metadata": {},
   "outputs": [],
   "source": [
    "class CFG :\n",
    "    path = '../data5'\n",
    "    embed_path = '../embeddings/logs'\n",
    "    n_neighbors = 3000\n",
    "    threshold = 0.48"
   ]
  },
  {
   "cell_type": "code",
   "execution_count": 3,
   "id": "26bfcc18-c598-4574-96a8-98d6531c3045",
   "metadata": {},
   "outputs": [],
   "source": [
    "config = CFG()"
   ]
  },
  {
   "cell_type": "code",
   "execution_count": 4,
   "id": "8180a20c-cf69-4f18-9c6c-2b143977bd67",
   "metadata": {},
   "outputs": [
    {
     "name": "stdout",
     "output_type": "stream",
     "text": [
      "torch.Size([51016, 2048])\n",
      "torch.Size([27956, 2048])\n",
      "Nearest Neighbors fit Start\n",
      "Finish\n",
      "\n",
      "Nearest Neighbor run time 1:29 \n",
      "\n",
      "Create row\n"
     ]
    },
    {
     "name": "stderr",
     "output_type": "stream",
     "text": [
      "100% 27956/27956 [04:29<00:00, 103.88it/s]\n"
     ]
    },
    {
     "name": "stdout",
     "output_type": "stream",
     "text": [
      "\n",
      " Create Dictionary\n"
     ]
    },
    {
     "name": "stderr",
     "output_type": "stream",
     "text": [
      "100% 83868000/83868000 [00:39<00:00, 2097728.12it/s]\n"
     ]
    },
    {
     "name": "stdout",
     "output_type": "stream",
     "text": [
      "\n",
      " Inference run-time 8:34\n"
     ]
    }
   ],
   "source": [
    "predictions = inference(path=config.path, embed_path=config.embed_path, n_neighbors=config.n_neighbors, threshold=config.threshold)"
   ]
  },
  {
   "cell_type": "code",
   "execution_count": 5,
   "id": "ccd15265-58ee-4d07-a48f-8afca79d3798",
   "metadata": {},
   "outputs": [
    {
     "data": {
      "text/html": [
       "<div>\n",
       "<style scoped>\n",
       "    .dataframe tbody tr th:only-of-type {\n",
       "        vertical-align: middle;\n",
       "    }\n",
       "\n",
       "    .dataframe tbody tr th {\n",
       "        vertical-align: top;\n",
       "    }\n",
       "\n",
       "    .dataframe thead th {\n",
       "        text-align: right;\n",
       "    }\n",
       "</style>\n",
       "<table border=\"1\" class=\"dataframe\">\n",
       "  <thead>\n",
       "    <tr style=\"text-align: right;\">\n",
       "      <th></th>\n",
       "      <th>image</th>\n",
       "      <th>predictions</th>\n",
       "    </tr>\n",
       "  </thead>\n",
       "  <tbody>\n",
       "    <tr>\n",
       "      <th>0</th>\n",
       "      <td>000110707af0ba.jpg</td>\n",
       "      <td>fbe2b15b5481 new_individual 5b1c986551e4 19a3c...</td>\n",
       "    </tr>\n",
       "    <tr>\n",
       "      <th>1</th>\n",
       "      <td>0006287ec424cb.jpg</td>\n",
       "      <td>1424c7fec826 new_individual 85ff7bc981df 57580...</td>\n",
       "    </tr>\n",
       "    <tr>\n",
       "      <th>2</th>\n",
       "      <td>000809ecb2ccad.jpg</td>\n",
       "      <td>1ce3ba6a3c29 new_individual 295056261ff7 d3ced...</td>\n",
       "    </tr>\n",
       "    <tr>\n",
       "      <th>3</th>\n",
       "      <td>00098d1376dab2.jpg</td>\n",
       "      <td>c4274d90be60 new_individual 2781acdf5508 f884e...</td>\n",
       "    </tr>\n",
       "    <tr>\n",
       "      <th>4</th>\n",
       "      <td>000b8d89c738bd.jpg</td>\n",
       "      <td>cf500d3874bc new_individual 56637d420170 d4d2c...</td>\n",
       "    </tr>\n",
       "  </tbody>\n",
       "</table>\n",
       "</div>"
      ],
      "text/plain": [
       "                image                                        predictions\n",
       "0  000110707af0ba.jpg  fbe2b15b5481 new_individual 5b1c986551e4 19a3c...\n",
       "1  0006287ec424cb.jpg  1424c7fec826 new_individual 85ff7bc981df 57580...\n",
       "2  000809ecb2ccad.jpg  1ce3ba6a3c29 new_individual 295056261ff7 d3ced...\n",
       "3  00098d1376dab2.jpg  c4274d90be60 new_individual 2781acdf5508 f884e...\n",
       "4  000b8d89c738bd.jpg  cf500d3874bc new_individual 56637d420170 d4d2c..."
      ]
     },
     "execution_count": 5,
     "metadata": {},
     "output_type": "execute_result"
    }
   ],
   "source": [
    "predictions.head()"
   ]
  },
  {
   "cell_type": "code",
   "execution_count": 6,
   "id": "051d3276-9af9-4429-a09a-fc4866f22ea9",
   "metadata": {},
   "outputs": [],
   "source": [
    "predictions.to_csv('./submission_all(label_smoothing+0.845,threshold0.47,embed).csv', index=False)"
   ]
  }
 ],
 "metadata": {
  "kernelspec": {
   "display_name": "Python 3 (ipykernel)",
   "language": "python",
   "name": "python3"
  },
  "language_info": {
   "codemirror_mode": {
    "name": "ipython",
    "version": 3
   },
   "file_extension": ".py",
   "mimetype": "text/x-python",
   "name": "python",
   "nbconvert_exporter": "python",
   "pygments_lexer": "ipython3",
   "version": "3.8.5"
  }
 },
 "nbformat": 4,
 "nbformat_minor": 5
}
